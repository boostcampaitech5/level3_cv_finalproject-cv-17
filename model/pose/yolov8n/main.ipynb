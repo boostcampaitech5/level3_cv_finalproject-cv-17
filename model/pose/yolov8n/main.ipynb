{
 "cells": [
  {
   "cell_type": "markdown",
   "metadata": {},
   "source": [
    "# train"
   ]
  },
  {
   "cell_type": "code",
   "execution_count": null,
   "metadata": {},
   "outputs": [],
   "source": [
    "from ultralytics import YOLO\n",
    "\n",
    "# build a new model from YAML\n",
    "model = YOLO('yolov8n-pose.yaml')\n",
    "\n",
    "# Train the model\n",
    "model.train(data='./dataset.yaml', epochs=50, imgsz=320, device=0, )"
   ]
  },
  {
   "cell_type": "markdown",
   "metadata": {},
   "source": [
    "# view sample"
   ]
  },
  {
   "cell_type": "code",
   "execution_count": null,
   "metadata": {},
   "outputs": [],
   "source": [
    "import os\n",
    "import cv2\n",
    "import torch\n",
    "import matplotlib.pyplot as plt\n",
    "from ultralytics import YOLO\n",
    "from ultralytics.yolo.engine.results import Results\n",
    "\n",
    "trained_model = './runs/pose/train12/weights/best.pt'\n",
    "img_folder_path = '/opt/ml/input/data/pos_data/val/images'\n",
    "\n",
    "model = YOLO(trained_model)\n",
    "\n",
    "filename = os.listdir(img_folder_path)\n",
    "i=0"
   ]
  },
  {
   "cell_type": "code",
   "execution_count": null,
   "metadata": {},
   "outputs": [],
   "source": [
    "image_path = os.path.join(img_folder_path, filename[i])\n",
    "print(image_path)\n",
    "image = cv2.imread(image_path)\n",
    "\n",
    "results = model.predict(source=image)[0]\n",
    "boxes = results.boxes\n",
    "class_  = boxes.cls\n",
    "keypoint_ = results.keypoints.xy\n",
    "keypoint_ = [point.tolist() for point in keypoint_]\n",
    "\n",
    "bounding_boxes = boxes.xyxy\n",
    "\n",
    "# Matplotlib를 사용하여 이미지와 경계 상자 표시\n",
    "fig, ax = plt.subplots()\n",
    "ax.imshow(cv2.cvtColor(image, cv2.COLOR_BGR2RGB))\n",
    "\n",
    "for box, cls in zip(bounding_boxes, class_):\n",
    "    cls = int(cls.item())\n",
    "    print(\"Class:\", cls)\n",
    "    box = [int(item.item()) for item in box]\n",
    "    print(box)\n",
    "    x_min, y_min, x_max, y_max = box\n",
    "    print(\"Box:\", x_min, y_min, x_max, y_max)\n",
    "    rect = plt.Rectangle((x_min, y_min), x_max - x_min, y_max - y_min,\n",
    "                         fill=False, edgecolor='green', linewidth=2)\n",
    "    ax.add_patch(rect)\n",
    "    ax.text(x_min, y_min - 5, f'Class: {cls}', color='green')\n",
    "\n",
    "for point in keypoint_[0]:\n",
    "    print(point)\n",
    "    x, y = point\n",
    "    ax.plot(x, y, 'ro')\n",
    "\n",
    "\n",
    "plt.show()\n",
    "i+=1"
   ]
  }
 ],
 "metadata": {
  "language_info": {
   "name": "python"
  },
  "orig_nbformat": 4
 },
 "nbformat": 4,
 "nbformat_minor": 2
}
