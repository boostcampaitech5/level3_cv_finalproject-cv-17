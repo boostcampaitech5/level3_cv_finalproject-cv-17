{
 "cells": [
  {
   "cell_type": "markdown",
   "metadata": {},
   "source": [
    "# train"
   ]
  },
  {
   "cell_type": "code",
   "execution_count": null,
   "metadata": {},
   "outputs": [],
   "source": [
    "from ultralytics import YOLO\n",
    "\n",
    "model = YOLO('yolov8n.yaml')  # build a new model from YAML\n",
    "\n",
    "# Train the model\n",
    "model.train(data='./dataset.yaml', epochs=100, imgsz=640, device=0, )"
   ]
  },
  {
   "cell_type": "markdown",
   "metadata": {},
   "source": [
    "# view sample"
   ]
  },
  {
   "cell_type": "code",
   "execution_count": null,
   "metadata": {},
   "outputs": [],
   "source": [
    "import os\n",
    "import cv2\n",
    "import torch\n",
    "import matplotlib.pyplot as plt\n",
    "from ultralytics import YOLO\n",
    "from ultralytics.yolo.engine.results import Results\n",
    "\n",
    "trained_model = './runs/detect/train7/weights/best.pt'\n",
    "img_folder_path = '/opt/ml/input/data/det_data/val/images'\n",
    "\n",
    "model = YOLO(trained_model)\n",
    "\n",
    "filename = os.listdir(img_folder_path)\n",
    "i=0"
   ]
  },
  {
   "cell_type": "code",
   "execution_count": null,
   "metadata": {},
   "outputs": [],
   "source": [
    "image_path = os.path.join(img_folder_path, filename[i])\n",
    "print(image_path)\n",
    "image = cv2.imread(image_path)\n",
    "results = model(image)[0]\n",
    "boxes = results.boxes\n",
    "class_ = boxes.cls\n",
    "bounding_boxes = boxes.xyxy\n",
    "\n",
    "# Matplotlib를 사용하여 이미지와 경계 상자 표시\n",
    "fig, ax = plt.subplots()\n",
    "ax.imshow(cv2.cvtColor(image, cv2.COLOR_BGR2RGB))\n",
    "\n",
    "for box, cls in zip(bounding_boxes, class_):\n",
    "    cls = int(cls.item())\n",
    "    print(\"Class:\", cls)\n",
    "    box = [int(item.item()) for item in box]\n",
    "    x_min, y_min, x_max, y_max = box\n",
    "    print(\"Box:\", x_min, y_min, x_max, y_max)\n",
    "    rect = plt.Rectangle((x_min, y_min), x_max - x_min, y_max - y_min,\n",
    "                         fill=False, edgecolor='green', linewidth=2)\n",
    "    ax.add_patch(rect)\n",
    "    ax.text(x_min, y_min - 5, f'Class: {cls}', color='green')\n",
    "\n",
    "fig.show()\n",
    "i+=1"
   ]
  },
  {
   "cell_type": "markdown",
   "metadata": {},
   "source": [
    "# inference"
   ]
  },
  {
   "cell_type": "code",
   "execution_count": null,
   "metadata": {},
   "outputs": [],
   "source": [
    "import random\n",
    "from PIL import Image\n",
    "\n",
    "trained_model = './runs/detect/train7/weights/best.pt'\n",
    "img_folder_path = '/opt/ml/input/data/det_data/val/images'\n",
    "train_path_list = trained_model.split('/')\n",
    "save_root = './output/'+ train_path_list[2] +'/'+ train_path_list[3]\n",
    "\n",
    "model = YOLO(trained_model)\n",
    "\n",
    "filenames = os.listdir(img_folder_path)\n",
    "filenames = random.sample(filenames,100)\n",
    "for filename in filenames:\n",
    "    image_path = os.path.join(img_folder_path, filename)\n",
    "    print(image_path)\n",
    "    image = Image.open(image_path)\n",
    "    results = model(image)[0]\n",
    "    boxes = results.boxes\n",
    "    class_ = boxes.cls\n",
    "    bounding_boxes = boxes.xyxy\n",
    "    for box, cls in zip(bounding_boxes, class_):\n",
    "        cls = int(cls.item())\n",
    "        box = [int(item.item()) for item in box]\n",
    "        x1, y1, x2, y2 = box\n",
    "\n",
    "        save_path = save_root +'/'+ filename.split('/')[-1][:-4] +'_'+ str(cls) +'.jpg'\n",
    "        \n",
    "        cropped_image = image.crop((x1, y1, x2, y2))\n",
    "        cropped_image.save(save_path)"
   ]
  }
 ],
 "metadata": {
  "language_info": {
   "name": "python"
  },
  "orig_nbformat": 4
 },
 "nbformat": 4,
 "nbformat_minor": 2
}
