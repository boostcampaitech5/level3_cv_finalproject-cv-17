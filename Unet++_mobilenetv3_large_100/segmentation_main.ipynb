{
 "cells": [
  {
   "cell_type": "code",
   "execution_count": 1,
   "id": "6b629c8a-1bb5-4514-8da2-580055a064be",
   "metadata": {},
   "outputs": [],
   "source": [
    "import torch\n",
    "import torch.nn as nn\n",
    "import numpy as np\n",
    "\n",
    "from PIL import Image"
   ]
  },
  {
   "cell_type": "code",
   "execution_count": 2,
   "id": "16e3f182-0a11-44d9-9f5b-66fb66479ce5",
   "metadata": {},
   "outputs": [],
   "source": [
    "from torch.utils.data import DataLoader\n",
    "from dataset import make_dataset\n",
    "from setseed import set_seed\n",
    "\n",
    "BATCH_SIZE = 32\n",
    "RANDOM_SEED = 21\n",
    "preprocess = None\n",
    "augmentation = None\n",
    "set_seed(RANDOM_SEED)\n",
    "\n",
    "train_dataset = make_dataset(mode = 'train', RANDOM_SEED = RANDOM_SEED, preprocess = preprocess, augmentation=augmentation)\n",
    "valid_dataset = make_dataset(mode = 'valid', RANDOM_SEED = RANDOM_SEED, preprocess = preprocess)\n",
    "#test_dataset = make_dataset(mode = 'test', RANDOM_SEED = RANDOM_SEED, preprocess = preprocess)\n",
    "\n",
    "train_loader = DataLoader(\n",
    "    dataset=train_dataset, \n",
    "    batch_size=BATCH_SIZE,\n",
    "    shuffle=True,\n",
    "    num_workers=6,\n",
    "    drop_last=True,\n",
    ")\n",
    "\n",
    "valid_loader = DataLoader(\n",
    "    dataset=valid_dataset, \n",
    "    batch_size=2,\n",
    "    shuffle=False,\n",
    "    num_workers=2,\n",
    "    drop_last=False\n",
    ")"
   ]
  },
  {
   "cell_type": "code",
   "execution_count": 3,
   "id": "5f966480-00a6-45e3-97c5-d591b91150f4",
   "metadata": {},
   "outputs": [],
   "source": [
    "import segmentation_models_pytorch as smp\n",
    "\n",
    "set_seed(RANDOM_SEED)\n",
    "\n",
    "model = smp.UnetPlusPlus(\n",
    "    encoder_name=\"tu-mobilenetv3_large_100\",        # choose encoder, e.g. mobilenet_v2 or efficientnet-b7\n",
    "    encoder_weights=\"imagenet\",     # use `imagenet` pre-trained weights for encoder initialization\n",
    "    in_channels=3,                  # model input channels (1 for gray-scale images, 3 for RGB, etc.)\n",
    "    classes=3,                      # model output channels (number of classes in your dataset)\n",
    ")\n",
    "model.name = 'Unet++_mobilenetv3_large_100'"
   ]
  },
  {
   "cell_type": "code",
   "execution_count": 4,
   "id": "6e4e8b85-08b9-4b5a-883c-933fa6cd5b66",
   "metadata": {},
   "outputs": [],
   "source": [
    "LR = 1e-4\n",
    "epoch = 15\n",
    "VAL_EVERY = 1 # validation 주기"
   ]
  },
  {
   "cell_type": "code",
   "execution_count": 5,
   "id": "0e982eb6-b744-498c-8cad-a81c9e944214",
   "metadata": {},
   "outputs": [],
   "source": [
    "import torch.optim as optim\n",
    "\n",
    "set_seed(RANDOM_SEED)\n",
    "\n",
    "#optimizer = optim.Adam(params=model.parameters(), lr=LR, weight_decay=1e-6)\n",
    "\n",
    "optimizer = torch.optim.SGD(\n",
    "    model.parameters(),\n",
    "    lr=0.01,\n",
    "    momentum=0.9,\n",
    "    weight_decay=1e-6,\n",
    "    nesterov=True,\n",
    ")\n",
    "\n",
    "scheduler = torch.optim.lr_scheduler.ReduceLROnPlateau(\n",
    "    optimizer, mode=\"min\", factor=0.2, patience=5, verbose=True\n",
    ")"
   ]
  },
  {
   "cell_type": "code",
   "execution_count": 6,
   "id": "b15bbccd-ffef-4645-b2c3-495f7ec26374",
   "metadata": {},
   "outputs": [],
   "source": [
    "from loss import FocalLoss, DiceLoss, FocalTverskyLoss, IoULoss\n",
    "\n",
    "set_seed(RANDOM_SEED)\n",
    "\n",
    "#criterion = nn.BCEWithLogitsLoss()\n",
    "#criterion = nn.SmoothL1Loss()\n",
    "#criterion = [(nn.BCEWithLogitsLoss(), 0.75), (DiceLoss(), 0.25)]\n",
    "#criterion = [(nn.BCEWithLogitsLoss(), 0.5), (nn.SmoothL1Loss(), 0.5)]\n",
    "criterion = [(nn.BCEWithLogitsLoss(), 0.1), (FocalTverskyLoss(alpha = 0.7, beta = 0.3, gamma = 2), 0.15), (DiceLoss(), 0.5), (IoULoss(), 0.25)]"
   ]
  },
  {
   "cell_type": "code",
   "execution_count": null,
   "id": "2c36fe90-2e73-4f92-90e7-02a93078b84b",
   "metadata": {
    "scrolled": true
   },
   "outputs": [
    {
     "name": "stdout",
     "output_type": "stream",
     "text": [
      "Start training..\n",
      "result model will be saved in /opt/ml/input/code/trained_model/last_model_2\n",
      "2023-07-16 16:29:46 | Epoch [1/15], Step [0/3493]\n",
      "2023-07-16 16:31:42 | Epoch [1/15], Step [150/3493], Loss: 0.60231\n",
      "2023-07-16 16:33:34 | Epoch [1/15], Step [300/3493], Loss: 0.16827\n",
      "2023-07-16 16:35:27 | Epoch [1/15], Step [450/3493], Loss: 0.149\n",
      "2023-07-16 16:37:19 | Epoch [1/15], Step [600/3493], Loss: 0.14953\n",
      "2023-07-16 16:39:12 | Epoch [1/15], Step [750/3493], Loss: 0.15267\n",
      "2023-07-16 16:41:04 | Epoch [1/15], Step [900/3493], Loss: 0.14519\n",
      "2023-07-16 16:42:56 | Epoch [1/15], Step [1050/3493], Loss: 0.12383\n",
      "2023-07-16 16:44:49 | Epoch [1/15], Step [1200/3493], Loss: 0.11277\n",
      "2023-07-16 16:46:42 | Epoch [1/15], Step [1350/3493], Loss: 0.11103\n",
      "2023-07-16 16:48:34 | Epoch [1/15], Step [1500/3493], Loss: 0.12874\n",
      "2023-07-16 16:50:27 | Epoch [1/15], Step [1650/3493], Loss: 0.11659\n",
      "2023-07-16 16:52:19 | Epoch [1/15], Step [1800/3493], Loss: 0.10803\n",
      "2023-07-16 16:54:12 | Epoch [1/15], Step [1950/3493], Loss: 0.10195\n",
      "2023-07-16 16:56:04 | Epoch [1/15], Step [2100/3493], Loss: 0.10798\n",
      "2023-07-16 16:57:57 | Epoch [1/15], Step [2250/3493], Loss: 0.10456\n",
      "2023-07-16 16:59:49 | Epoch [1/15], Step [2400/3493], Loss: 0.10911\n",
      "2023-07-16 17:01:42 | Epoch [1/15], Step [2550/3493], Loss: 0.11074\n",
      "2023-07-16 17:03:35 | Epoch [1/15], Step [2700/3493], Loss: 0.10629\n",
      "2023-07-16 17:05:27 | Epoch [1/15], Step [2850/3493], Loss: 0.10271\n",
      "2023-07-16 17:07:20 | Epoch [1/15], Step [3000/3493], Loss: 0.1148\n",
      "2023-07-16 17:09:12 | Epoch [1/15], Step [3150/3493], Loss: 0.09215\n",
      "2023-07-16 17:11:05 | Epoch [1/15], Step [3300/3493], Loss: 0.10419\n",
      "2023-07-16 17:12:57 | Epoch [1/15], Step [3450/3493], Loss: 0.10404\n",
      "Start validation # 1\n"
     ]
    },
    {
     "data": {
      "application/vnd.jupyter.widget-view+json": {
       "model_id": "0b5c081e5154411dbf87c0310278ebb9",
       "version_major": 2,
       "version_minor": 0
      },
      "text/plain": [
       "  0%|          | 0/14957 [00:00<?, ?it/s]"
      ]
     },
     "metadata": {},
     "output_type": "display_data"
    },
    {
     "name": "stdout",
     "output_type": "stream",
     "text": [
      "iou per classes\n",
      "sclera      : 0.70849\n",
      "iris        : 0.86914\n",
      "pupil       : 0.84418\n",
      "mean dice: 0.80727\n",
      "\n",
      "dice per classes\n",
      "sclera      : 0.82502\n",
      "iris        : 0.92860\n",
      "pupil       : 0.91187\n",
      "mean dice: 0.88850\n",
      "\n",
      "new best pupil iou score: 0.84418\n",
      "new best pupil dice score: 0.91187\n",
      "new best mean iou score: 0.80727\n",
      "new best mean dice score: 0.88850\n",
      "\n",
      "2023-07-16 17:25:40 | Epoch [2/15], Step [0/3493]\n",
      "2023-07-16 17:27:33 | Epoch [2/15], Step [150/3493], Loss: 0.0946\n",
      "2023-07-16 17:29:25 | Epoch [2/15], Step [300/3493], Loss: 0.10293\n",
      "2023-07-16 17:31:18 | Epoch [2/15], Step [450/3493], Loss: 0.10886\n",
      "2023-07-16 17:33:10 | Epoch [2/15], Step [600/3493], Loss: 0.09847\n",
      "2023-07-16 17:35:03 | Epoch [2/15], Step [750/3493], Loss: 0.10362\n",
      "2023-07-16 17:36:55 | Epoch [2/15], Step [900/3493], Loss: 0.09488\n",
      "2023-07-16 17:38:48 | Epoch [2/15], Step [1050/3493], Loss: 0.10014\n",
      "2023-07-16 17:40:41 | Epoch [2/15], Step [1200/3493], Loss: 0.09633\n",
      "2023-07-16 17:42:33 | Epoch [2/15], Step [1350/3493], Loss: 0.09517\n",
      "2023-07-16 17:44:26 | Epoch [2/15], Step [1500/3493], Loss: 0.09092\n",
      "2023-07-16 17:46:18 | Epoch [2/15], Step [1650/3493], Loss: 0.1105\n",
      "2023-07-16 17:48:11 | Epoch [2/15], Step [1800/3493], Loss: 0.08984\n",
      "2023-07-16 17:50:04 | Epoch [2/15], Step [1950/3493], Loss: 0.08936\n",
      "2023-07-16 17:51:56 | Epoch [2/15], Step [2100/3493], Loss: 0.08955\n",
      "2023-07-16 17:53:49 | Epoch [2/15], Step [2250/3493], Loss: 0.09357\n",
      "2023-07-16 17:55:42 | Epoch [2/15], Step [2400/3493], Loss: 0.09253\n",
      "2023-07-16 17:57:34 | Epoch [2/15], Step [2550/3493], Loss: 0.09537\n",
      "2023-07-16 17:59:27 | Epoch [2/15], Step [2700/3493], Loss: 0.08937\n",
      "2023-07-16 18:01:19 | Epoch [2/15], Step [2850/3493], Loss: 0.09966\n",
      "2023-07-16 18:03:12 | Epoch [2/15], Step [3000/3493], Loss: 0.09123\n",
      "2023-07-16 18:05:04 | Epoch [2/15], Step [3150/3493], Loss: 0.08565\n",
      "2023-07-16 18:06:57 | Epoch [2/15], Step [3300/3493], Loss: 0.09568\n",
      "2023-07-16 18:08:50 | Epoch [2/15], Step [3450/3493], Loss: 0.09199\n",
      "Start validation # 2\n"
     ]
    },
    {
     "data": {
      "application/vnd.jupyter.widget-view+json": {
       "model_id": "b79c6867016c4f21aef12731685ba85c",
       "version_major": 2,
       "version_minor": 0
      },
      "text/plain": [
       "  0%|          | 0/14957 [00:00<?, ?it/s]"
      ]
     },
     "metadata": {},
     "output_type": "display_data"
    },
    {
     "name": "stdout",
     "output_type": "stream",
     "text": [
      "iou per classes\n",
      "sclera      : 0.71426\n",
      "iris        : 0.87389\n",
      "pupil       : 0.85206\n",
      "mean dice: 0.81341\n",
      "\n",
      "dice per classes\n",
      "sclera      : 0.82861\n",
      "iris        : 0.93144\n",
      "pupil       : 0.91727\n",
      "mean dice: 0.89244\n",
      "\n",
      "new best pupil iou score: 0.85206\n",
      "new best pupil dice score: 0.91727\n",
      "new best mean iou score: 0.81341\n",
      "new best mean dice score: 0.89244\n",
      "\n",
      "2023-07-16 18:21:10 | Epoch [3/15], Step [0/3493]\n",
      "2023-07-16 18:23:03 | Epoch [3/15], Step [150/3493], Loss: 0.08504\n",
      "2023-07-16 18:24:55 | Epoch [3/15], Step [300/3493], Loss: 0.09456\n",
      "2023-07-16 18:26:48 | Epoch [3/15], Step [450/3493], Loss: 0.09678\n",
      "2023-07-16 18:28:41 | Epoch [3/15], Step [600/3493], Loss: 0.08866\n",
      "2023-07-16 18:30:33 | Epoch [3/15], Step [750/3493], Loss: 0.09395\n",
      "2023-07-16 18:32:26 | Epoch [3/15], Step [900/3493], Loss: 0.08615\n",
      "2023-07-16 18:34:18 | Epoch [3/15], Step [1050/3493], Loss: 0.08778\n",
      "2023-07-16 18:36:10 | Epoch [3/15], Step [1200/3493], Loss: 0.08595\n",
      "2023-07-16 18:38:03 | Epoch [3/15], Step [1350/3493], Loss: 0.0848\n",
      "2023-07-16 18:39:56 | Epoch [3/15], Step [1500/3493], Loss: 0.0821\n",
      "2023-07-16 18:41:48 | Epoch [3/15], Step [1650/3493], Loss: 0.09814\n",
      "2023-07-16 18:43:41 | Epoch [3/15], Step [1800/3493], Loss: 0.07934\n",
      "2023-07-16 18:45:34 | Epoch [3/15], Step [1950/3493], Loss: 0.07974\n",
      "2023-07-16 18:47:26 | Epoch [3/15], Step [2100/3493], Loss: 0.08058\n",
      "2023-07-16 18:49:19 | Epoch [3/15], Step [2250/3493], Loss: 0.0852\n",
      "2023-07-16 18:51:11 | Epoch [3/15], Step [2400/3493], Loss: 0.08085\n",
      "2023-07-16 18:53:04 | Epoch [3/15], Step [2550/3493], Loss: 0.08544\n",
      "2023-07-16 18:54:57 | Epoch [3/15], Step [2700/3493], Loss: 0.08249\n",
      "2023-07-16 18:56:50 | Epoch [3/15], Step [2850/3493], Loss: 0.0885\n",
      "2023-07-16 18:58:42 | Epoch [3/15], Step [3000/3493], Loss: 0.08366\n",
      "2023-07-16 19:00:35 | Epoch [3/15], Step [3150/3493], Loss: 0.07836\n",
      "2023-07-16 19:02:27 | Epoch [3/15], Step [3300/3493], Loss: 0.08476\n",
      "2023-07-16 19:04:20 | Epoch [3/15], Step [3450/3493], Loss: 0.08255\n",
      "Start validation # 3\n"
     ]
    },
    {
     "data": {
      "application/vnd.jupyter.widget-view+json": {
       "model_id": "10606fcf1bf24f7281433fc08d6d1d39",
       "version_major": 2,
       "version_minor": 0
      },
      "text/plain": [
       "  0%|          | 0/14957 [00:00<?, ?it/s]"
      ]
     },
     "metadata": {},
     "output_type": "display_data"
    },
    {
     "name": "stdout",
     "output_type": "stream",
     "text": [
      "iou per classes\n",
      "sclera      : 0.72175\n",
      "iris        : 0.87792\n",
      "pupil       : 0.85471\n",
      "mean dice: 0.81813\n",
      "\n",
      "dice per classes\n",
      "sclera      : 0.83337\n",
      "iris        : 0.93371\n",
      "pupil       : 0.91899\n",
      "mean dice: 0.89535\n",
      "\n",
      "new best pupil iou score: 0.85471\n",
      "new best pupil dice score: 0.91899\n",
      "new best mean iou score: 0.81813\n",
      "new best mean dice score: 0.89535\n",
      "\n",
      "2023-07-16 19:16:35 | Epoch [4/15], Step [0/3493]\n",
      "2023-07-16 19:18:28 | Epoch [4/15], Step [150/3493], Loss: 0.07901\n",
      "2023-07-16 19:20:20 | Epoch [4/15], Step [300/3493], Loss: 0.08767\n",
      "2023-07-16 19:22:13 | Epoch [4/15], Step [450/3493], Loss: 0.08452\n",
      "2023-07-16 19:24:05 | Epoch [4/15], Step [600/3493], Loss: 0.08126\n",
      "2023-07-16 19:25:58 | Epoch [4/15], Step [750/3493], Loss: 0.0869\n",
      "2023-07-16 19:27:50 | Epoch [4/15], Step [900/3493], Loss: 0.07864\n",
      "2023-07-16 19:29:43 | Epoch [4/15], Step [1050/3493], Loss: 0.08045\n",
      "2023-07-16 19:31:36 | Epoch [4/15], Step [1200/3493], Loss: 0.07808\n",
      "2023-07-16 19:33:28 | Epoch [4/15], Step [1350/3493], Loss: 0.07616\n",
      "2023-07-16 19:35:21 | Epoch [4/15], Step [1500/3493], Loss: 0.07586\n",
      "2023-07-16 19:37:14 | Epoch [4/15], Step [1650/3493], Loss: 0.08963\n",
      "2023-07-16 19:39:06 | Epoch [4/15], Step [1800/3493], Loss: 0.07292\n",
      "2023-07-16 19:40:59 | Epoch [4/15], Step [1950/3493], Loss: 0.07391\n",
      "2023-07-16 19:42:52 | Epoch [4/15], Step [2100/3493], Loss: 0.07495\n",
      "2023-07-16 19:44:44 | Epoch [4/15], Step [2250/3493], Loss: 0.07848\n",
      "2023-07-16 19:46:37 | Epoch [4/15], Step [2400/3493], Loss: 0.07415\n",
      "2023-07-16 19:48:29 | Epoch [4/15], Step [2550/3493], Loss: 0.08024\n",
      "2023-07-16 19:50:22 | Epoch [4/15], Step [2700/3493], Loss: 0.0765\n",
      "2023-07-16 19:52:15 | Epoch [4/15], Step [2850/3493], Loss: 0.0814\n",
      "2023-07-16 19:54:07 | Epoch [4/15], Step [3000/3493], Loss: 0.07876\n",
      "2023-07-16 19:56:00 | Epoch [4/15], Step [3150/3493], Loss: 0.07404\n",
      "2023-07-16 19:57:52 | Epoch [4/15], Step [3300/3493], Loss: 0.07783\n",
      "2023-07-16 19:59:45 | Epoch [4/15], Step [3450/3493], Loss: 0.0766\n",
      "Start validation # 4\n"
     ]
    },
    {
     "data": {
      "application/vnd.jupyter.widget-view+json": {
       "model_id": "5dd18f13a5f3483da26f67b899dab4c7",
       "version_major": 2,
       "version_minor": 0
      },
      "text/plain": [
       "  0%|          | 0/14957 [00:00<?, ?it/s]"
      ]
     },
     "metadata": {},
     "output_type": "display_data"
    },
    {
     "name": "stdout",
     "output_type": "stream",
     "text": [
      "iou per classes\n",
      "sclera      : 0.72821\n",
      "iris        : 0.87944\n",
      "pupil       : 0.85636\n",
      "mean dice: 0.82134\n",
      "\n",
      "dice per classes\n",
      "sclera      : 0.83754\n",
      "iris        : 0.93452\n",
      "pupil       : 0.92001\n",
      "mean dice: 0.89736\n",
      "\n",
      "new best pupil iou score: 0.85636\n",
      "new best pupil dice score: 0.92001\n",
      "new best mean iou score: 0.82134\n",
      "new best mean dice score: 0.89736\n",
      "\n",
      "2023-07-16 20:12:22 | Epoch [5/15], Step [0/3493]\n",
      "2023-07-16 20:14:15 | Epoch [5/15], Step [150/3493], Loss: 0.07418\n",
      "2023-07-16 20:16:08 | Epoch [5/15], Step [300/3493], Loss: 0.08194\n",
      "2023-07-16 20:18:01 | Epoch [5/15], Step [450/3493], Loss: 0.07772\n",
      "2023-07-16 20:19:53 | Epoch [5/15], Step [600/3493], Loss: 0.07582\n",
      "2023-07-16 20:21:45 | Epoch [5/15], Step [750/3493], Loss: 0.08027\n",
      "2023-07-16 20:23:38 | Epoch [5/15], Step [900/3493], Loss: 0.07289\n",
      "2023-07-16 20:25:30 | Epoch [5/15], Step [1050/3493], Loss: 0.07485\n",
      "2023-07-16 20:27:23 | Epoch [5/15], Step [1200/3493], Loss: 0.07169\n",
      "2023-07-16 20:29:15 | Epoch [5/15], Step [1350/3493], Loss: 0.07093\n",
      "2023-07-16 20:31:08 | Epoch [5/15], Step [1500/3493], Loss: 0.07138\n",
      "2023-07-16 20:33:01 | Epoch [5/15], Step [1650/3493], Loss: 0.08402\n",
      "2023-07-16 20:34:53 | Epoch [5/15], Step [1800/3493], Loss: 0.06849\n",
      "2023-07-16 20:36:46 | Epoch [5/15], Step [1950/3493], Loss: 0.07023\n",
      "2023-07-16 20:38:38 | Epoch [5/15], Step [2100/3493], Loss: 0.0701\n",
      "2023-07-16 20:40:31 | Epoch [5/15], Step [2250/3493], Loss: 0.07334\n",
      "2023-07-16 20:42:23 | Epoch [5/15], Step [2400/3493], Loss: 0.07003\n",
      "2023-07-16 20:44:16 | Epoch [5/15], Step [2550/3493], Loss: 0.07554\n",
      "2023-07-16 20:46:09 | Epoch [5/15], Step [2700/3493], Loss: 0.07153\n",
      "2023-07-16 20:48:01 | Epoch [5/15], Step [2850/3493], Loss: 0.07638\n",
      "2023-07-16 20:49:54 | Epoch [5/15], Step [3000/3493], Loss: 0.07532\n",
      "2023-07-16 20:51:46 | Epoch [5/15], Step [3150/3493], Loss: 0.07104\n",
      "2023-07-16 20:53:39 | Epoch [5/15], Step [3300/3493], Loss: 0.0727\n",
      "2023-07-16 20:55:31 | Epoch [5/15], Step [3450/3493], Loss: 0.07277\n",
      "Start validation # 5\n"
     ]
    },
    {
     "data": {
      "application/vnd.jupyter.widget-view+json": {
       "model_id": "509d4e3e648f4a84a9ea9ea6582f8449",
       "version_major": 2,
       "version_minor": 0
      },
      "text/plain": [
       "  0%|          | 0/14957 [00:00<?, ?it/s]"
      ]
     },
     "metadata": {},
     "output_type": "display_data"
    },
    {
     "name": "stdout",
     "output_type": "stream",
     "text": [
      "iou per classes\n",
      "sclera      : 0.73237\n",
      "iris        : 0.87908\n",
      "pupil       : 0.85732\n",
      "mean dice: 0.82292\n",
      "\n",
      "dice per classes\n",
      "sclera      : 0.84030\n",
      "iris        : 0.93427\n",
      "pupil       : 0.92058\n",
      "mean dice: 0.89838\n",
      "\n",
      "new best pupil iou score: 0.85732\n",
      "new best pupil dice score: 0.92058\n",
      "new best mean iou score: 0.82292\n",
      "new best mean dice score: 0.89838\n",
      "\n",
      "2023-07-16 21:08:00 | Epoch [6/15], Step [0/3493]\n",
      "2023-07-16 21:09:53 | Epoch [6/15], Step [150/3493], Loss: 0.07048\n",
      "2023-07-16 21:11:45 | Epoch [6/15], Step [300/3493], Loss: 0.07777\n",
      "2023-07-16 21:13:38 | Epoch [6/15], Step [450/3493], Loss: 0.07374\n",
      "2023-07-16 21:15:30 | Epoch [6/15], Step [600/3493], Loss: 0.0712\n",
      "2023-07-16 21:17:22 | Epoch [6/15], Step [750/3493], Loss: 0.0753\n",
      "2023-07-16 21:19:15 | Epoch [6/15], Step [900/3493], Loss: 0.06892\n",
      "2023-07-16 21:21:07 | Epoch [6/15], Step [1050/3493], Loss: 0.07042\n",
      "2023-07-16 21:23:00 | Epoch [6/15], Step [1200/3493], Loss: 0.06785\n",
      "2023-07-16 21:24:52 | Epoch [6/15], Step [1350/3493], Loss: 0.06746\n",
      "2023-07-16 21:26:45 | Epoch [6/15], Step [1500/3493], Loss: 0.06783\n",
      "2023-07-16 21:28:38 | Epoch [6/15], Step [1650/3493], Loss: 0.08021\n",
      "2023-07-16 21:30:30 | Epoch [6/15], Step [1800/3493], Loss: 0.06558\n",
      "2023-07-16 21:32:23 | Epoch [6/15], Step [1950/3493], Loss: 0.0673\n",
      "2023-07-16 21:34:15 | Epoch [6/15], Step [2100/3493], Loss: 0.06716\n",
      "2023-07-16 21:36:08 | Epoch [6/15], Step [2250/3493], Loss: 0.07029\n",
      "2023-07-16 21:38:00 | Epoch [6/15], Step [2400/3493], Loss: 0.06665\n",
      "2023-07-16 21:39:53 | Epoch [6/15], Step [2550/3493], Loss: 0.07189\n",
      "2023-07-16 21:41:45 | Epoch [6/15], Step [2700/3493], Loss: 0.06766\n",
      "2023-07-16 21:43:38 | Epoch [6/15], Step [2850/3493], Loss: 0.07298\n",
      "2023-07-16 21:45:30 | Epoch [6/15], Step [3000/3493], Loss: 0.07255\n",
      "2023-07-16 21:47:23 | Epoch [6/15], Step [3150/3493], Loss: 0.06833\n",
      "2023-07-16 21:49:16 | Epoch [6/15], Step [3300/3493], Loss: 0.06922\n",
      "2023-07-16 21:51:08 | Epoch [6/15], Step [3450/3493], Loss: 0.06974\n",
      "Start validation # 6\n"
     ]
    },
    {
     "data": {
      "application/vnd.jupyter.widget-view+json": {
       "model_id": "decd7c88783c474f8d19449b151d60fd",
       "version_major": 2,
       "version_minor": 0
      },
      "text/plain": [
       "  0%|          | 0/14957 [00:00<?, ?it/s]"
      ]
     },
     "metadata": {},
     "output_type": "display_data"
    },
    {
     "name": "stdout",
     "output_type": "stream",
     "text": [
      "iou per classes\n",
      "sclera      : 0.73519\n",
      "iris        : 0.87968\n",
      "pupil       : 0.85817\n",
      "mean dice: 0.82435\n",
      "\n",
      "dice per classes\n",
      "sclera      : 0.84204\n",
      "iris        : 0.93460\n",
      "pupil       : 0.92110\n",
      "mean dice: 0.89925\n",
      "\n",
      "new best pupil iou score: 0.85817\n",
      "new best pupil dice score: 0.92110\n",
      "new best mean iou score: 0.82435\n",
      "new best mean dice score: 0.89925\n",
      "\n",
      "2023-07-16 22:02:46 | Epoch [7/15], Step [0/3493]\n",
      "2023-07-16 22:04:39 | Epoch [7/15], Step [150/3493], Loss: 0.0677\n",
      "2023-07-16 22:06:31 | Epoch [7/15], Step [300/3493], Loss: 0.07432\n",
      "2023-07-16 22:08:24 | Epoch [7/15], Step [450/3493], Loss: 0.07092\n",
      "2023-07-16 22:10:16 | Epoch [7/15], Step [600/3493], Loss: 0.06744\n",
      "2023-07-16 22:12:09 | Epoch [7/15], Step [750/3493], Loss: 0.07204\n",
      "2023-07-16 22:14:01 | Epoch [7/15], Step [900/3493], Loss: 0.06633\n",
      "2023-07-16 22:15:53 | Epoch [7/15], Step [1050/3493], Loss: 0.06749\n",
      "2023-07-16 22:17:46 | Epoch [7/15], Step [1200/3493], Loss: 0.06485\n",
      "2023-07-16 22:19:38 | Epoch [7/15], Step [1350/3493], Loss: 0.06493\n",
      "2023-07-16 22:21:31 | Epoch [7/15], Step [1500/3493], Loss: 0.06514\n",
      "2023-07-16 22:23:23 | Epoch [7/15], Step [1650/3493], Loss: 0.07727\n",
      "2023-07-16 22:25:15 | Epoch [7/15], Step [1800/3493], Loss: 0.06287\n",
      "2023-07-16 22:27:08 | Epoch [7/15], Step [1950/3493], Loss: 0.0651\n",
      "2023-07-16 22:29:00 | Epoch [7/15], Step [2100/3493], Loss: 0.06434\n",
      "2023-07-16 22:30:53 | Epoch [7/15], Step [2250/3493], Loss: 0.06766\n",
      "2023-07-16 22:32:45 | Epoch [7/15], Step [2400/3493], Loss: 0.06386\n",
      "2023-07-16 22:34:38 | Epoch [7/15], Step [2550/3493], Loss: 0.06885\n",
      "2023-07-16 22:36:30 | Epoch [7/15], Step [2700/3493], Loss: 0.06486\n",
      "2023-07-16 22:38:23 | Epoch [7/15], Step [2850/3493], Loss: 0.07047\n",
      "2023-07-16 22:40:16 | Epoch [7/15], Step [3000/3493], Loss: 0.07035\n",
      "2023-07-16 22:42:08 | Epoch [7/15], Step [3150/3493], Loss: 0.0664\n",
      "2023-07-16 22:44:01 | Epoch [7/15], Step [3300/3493], Loss: 0.06638\n",
      "2023-07-16 22:45:54 | Epoch [7/15], Step [3450/3493], Loss: 0.06694\n",
      "Start validation # 7\n"
     ]
    },
    {
     "data": {
      "application/vnd.jupyter.widget-view+json": {
       "model_id": "639dbb1e5cb74b3a879aea6f5e585f85",
       "version_major": 2,
       "version_minor": 0
      },
      "text/plain": [
       "  0%|          | 0/14957 [00:00<?, ?it/s]"
      ]
     },
     "metadata": {},
     "output_type": "display_data"
    },
    {
     "name": "stdout",
     "output_type": "stream",
     "text": [
      "iou per classes\n",
      "sclera      : 0.73716\n",
      "iris        : 0.87886\n",
      "pupil       : 0.85885\n",
      "mean dice: 0.82496\n",
      "\n",
      "dice per classes\n",
      "sclera      : 0.84332\n",
      "iris        : 0.93412\n",
      "pupil       : 0.92151\n",
      "mean dice: 0.89965\n",
      "\n",
      "new best pupil iou score: 0.85885\n",
      "new best pupil dice score: 0.92151\n",
      "new best mean iou score: 0.82496\n",
      "new best mean dice score: 0.89965\n",
      "\n",
      "2023-07-16 22:57:04 | Epoch [8/15], Step [0/3493]\n",
      "2023-07-16 22:58:57 | Epoch [8/15], Step [150/3493], Loss: 0.06518\n",
      "2023-07-16 23:00:49 | Epoch [8/15], Step [300/3493], Loss: 0.07182\n",
      "2023-07-16 23:02:42 | Epoch [8/15], Step [450/3493], Loss: 0.06883\n",
      "2023-07-16 23:04:34 | Epoch [8/15], Step [600/3493], Loss: 0.06431\n",
      "2023-07-16 23:06:26 | Epoch [8/15], Step [750/3493], Loss: 0.07002\n",
      "2023-07-16 23:08:19 | Epoch [8/15], Step [900/3493], Loss: 0.06478\n",
      "2023-07-16 23:10:11 | Epoch [8/15], Step [1050/3493], Loss: 0.0645\n",
      "2023-07-16 23:12:04 | Epoch [8/15], Step [1200/3493], Loss: 0.06239\n",
      "2023-07-16 23:13:56 | Epoch [8/15], Step [1350/3493], Loss: 0.06329\n",
      "2023-07-16 23:15:48 | Epoch [8/15], Step [1500/3493], Loss: 0.06323\n",
      "2023-07-16 23:17:41 | Epoch [8/15], Step [1650/3493], Loss: 0.07483\n",
      "2023-07-16 23:19:34 | Epoch [8/15], Step [1800/3493], Loss: 0.0605\n",
      "2023-07-16 23:21:26 | Epoch [8/15], Step [1950/3493], Loss: 0.0633\n",
      "2023-07-16 23:23:18 | Epoch [8/15], Step [2100/3493], Loss: 0.06216\n",
      "2023-07-16 23:25:11 | Epoch [8/15], Step [2250/3493], Loss: 0.06581\n",
      "2023-07-16 23:27:03 | Epoch [8/15], Step [2400/3493], Loss: 0.06173\n",
      "2023-07-16 23:28:56 | Epoch [8/15], Step [2550/3493], Loss: 0.06608\n",
      "2023-07-16 23:30:48 | Epoch [8/15], Step [2700/3493], Loss: 0.06248\n",
      "2023-07-16 23:32:41 | Epoch [8/15], Step [2850/3493], Loss: 0.06809\n",
      "2023-07-16 23:34:33 | Epoch [8/15], Step [3000/3493], Loss: 0.06856\n",
      "2023-07-16 23:36:26 | Epoch [8/15], Step [3150/3493], Loss: 0.06448\n",
      "2023-07-16 23:38:19 | Epoch [8/15], Step [3300/3493], Loss: 0.06435\n",
      "2023-07-16 23:40:11 | Epoch [8/15], Step [3450/3493], Loss: 0.06524\n",
      "Start validation # 8\n"
     ]
    },
    {
     "data": {
      "application/vnd.jupyter.widget-view+json": {
       "model_id": "b36364aff36442e980ed6b28a3ea152b",
       "version_major": 2,
       "version_minor": 0
      },
      "text/plain": [
       "  0%|          | 0/14957 [00:00<?, ?it/s]"
      ]
     },
     "metadata": {},
     "output_type": "display_data"
    },
    {
     "name": "stdout",
     "output_type": "stream",
     "text": [
      "iou per classes\n",
      "sclera      : 0.73947\n",
      "iris        : 0.88048\n",
      "pupil       : 0.85950\n",
      "mean dice: 0.82648\n",
      "\n",
      "dice per classes\n",
      "sclera      : 0.84475\n",
      "iris        : 0.93503\n",
      "pupil       : 0.92189\n",
      "mean dice: 0.90056\n",
      "\n",
      "new best pupil iou score: 0.85950\n",
      "new best pupil dice score: 0.92189\n",
      "new best mean iou score: 0.82648\n",
      "new best mean dice score: 0.90056\n",
      "\n",
      "2023-07-16 23:51:09 | Epoch [9/15], Step [0/3493]\n",
      "2023-07-16 23:53:01 | Epoch [9/15], Step [150/3493], Loss: 0.06303\n",
      "2023-07-16 23:54:54 | Epoch [9/15], Step [300/3493], Loss: 0.06996\n",
      "2023-07-16 23:56:46 | Epoch [9/15], Step [450/3493], Loss: 0.06713\n",
      "2023-07-16 23:58:39 | Epoch [9/15], Step [600/3493], Loss: 0.06187\n",
      "2023-07-17 00:00:31 | Epoch [9/15], Step [750/3493], Loss: 0.06828\n",
      "2023-07-17 00:02:24 | Epoch [9/15], Step [900/3493], Loss: 0.06344\n",
      "2023-07-17 00:04:16 | Epoch [9/15], Step [1050/3493], Loss: 0.0624\n",
      "2023-07-17 00:06:09 | Epoch [9/15], Step [1200/3493], Loss: 0.06038\n",
      "2023-07-17 00:08:01 | Epoch [9/15], Step [1350/3493], Loss: 0.06216\n",
      "2023-07-17 00:09:54 | Epoch [9/15], Step [1500/3493], Loss: 0.06148\n",
      "2023-07-17 00:11:46 | Epoch [9/15], Step [1650/3493], Loss: 0.07264\n",
      "2023-07-17 00:13:39 | Epoch [9/15], Step [1800/3493], Loss: 0.05876\n",
      "2023-07-17 00:15:31 | Epoch [9/15], Step [1950/3493], Loss: 0.06181\n",
      "2023-07-17 00:17:24 | Epoch [9/15], Step [2100/3493], Loss: 0.06026\n",
      "2023-07-17 00:19:16 | Epoch [9/15], Step [2250/3493], Loss: 0.06418\n",
      "2023-07-17 00:21:09 | Epoch [9/15], Step [2400/3493], Loss: 0.06004\n",
      "2023-07-17 00:23:01 | Epoch [9/15], Step [2550/3493], Loss: 0.06385\n",
      "2023-07-17 00:24:54 | Epoch [9/15], Step [2700/3493], Loss: 0.06037\n",
      "2023-07-17 00:26:46 | Epoch [9/15], Step [2850/3493], Loss: 0.06659\n",
      "2023-07-17 00:28:39 | Epoch [9/15], Step [3000/3493], Loss: 0.06718\n",
      "2023-07-17 00:30:31 | Epoch [9/15], Step [3150/3493], Loss: 0.06272\n",
      "2023-07-17 00:32:24 | Epoch [9/15], Step [3300/3493], Loss: 0.06246\n",
      "2023-07-17 00:34:17 | Epoch [9/15], Step [3450/3493], Loss: 0.06365\n",
      "Start validation # 9\n"
     ]
    },
    {
     "data": {
      "application/vnd.jupyter.widget-view+json": {
       "model_id": "38fb773d7e264900a2f6df7fc1ef733a",
       "version_major": 2,
       "version_minor": 0
      },
      "text/plain": [
       "  0%|          | 0/14957 [00:00<?, ?it/s]"
      ]
     },
     "metadata": {},
     "output_type": "display_data"
    },
    {
     "name": "stdout",
     "output_type": "stream",
     "text": [
      "iou per classes\n",
      "sclera      : 0.74106\n",
      "iris        : 0.88197\n",
      "pupil       : 0.85974\n",
      "mean dice: 0.82759\n",
      "\n",
      "dice per classes\n",
      "sclera      : 0.84570\n",
      "iris        : 0.93588\n",
      "pupil       : 0.92203\n",
      "mean dice: 0.90120\n",
      "\n",
      "new best pupil iou score: 0.85974\n",
      "new best pupil dice score: 0.92203\n",
      "new best mean iou score: 0.82759\n",
      "new best mean dice score: 0.90120\n",
      "\n",
      "2023-07-17 00:45:47 | Epoch [10/15], Step [0/3493]\n",
      "2023-07-17 00:47:39 | Epoch [10/15], Step [150/3493], Loss: 0.06109\n",
      "2023-07-17 00:49:32 | Epoch [10/15], Step [300/3493], Loss: 0.06823\n",
      "2023-07-17 00:51:24 | Epoch [10/15], Step [450/3493], Loss: 0.06584\n",
      "2023-07-17 00:53:16 | Epoch [10/15], Step [600/3493], Loss: 0.06002\n",
      "2023-07-17 00:55:09 | Epoch [10/15], Step [750/3493], Loss: 0.06685\n",
      "2023-07-17 00:57:01 | Epoch [10/15], Step [900/3493], Loss: 0.0622\n",
      "2023-07-17 00:58:53 | Epoch [10/15], Step [1050/3493], Loss: 0.06083\n",
      "2023-07-17 01:00:46 | Epoch [10/15], Step [1200/3493], Loss: 0.05852\n",
      "2023-07-17 01:02:38 | Epoch [10/15], Step [1350/3493], Loss: 0.06096\n",
      "2023-07-17 01:04:31 | Epoch [10/15], Step [1500/3493], Loss: 0.06021\n",
      "2023-07-17 01:06:24 | Epoch [10/15], Step [1650/3493], Loss: 0.07035\n",
      "2023-07-17 01:08:16 | Epoch [10/15], Step [1800/3493], Loss: 0.05699\n",
      "2023-07-17 01:10:09 | Epoch [10/15], Step [1950/3493], Loss: 0.06054\n",
      "2023-07-17 01:12:01 | Epoch [10/15], Step [2100/3493], Loss: 0.0584\n",
      "2023-07-17 01:13:54 | Epoch [10/15], Step [2250/3493], Loss: 0.06283\n",
      "2023-07-17 01:15:46 | Epoch [10/15], Step [2400/3493], Loss: 0.05849\n",
      "2023-07-17 01:17:39 | Epoch [10/15], Step [2550/3493], Loss: 0.06182\n",
      "2023-07-17 01:19:31 | Epoch [10/15], Step [2700/3493], Loss: 0.05873\n",
      "2023-07-17 01:21:24 | Epoch [10/15], Step [2850/3493], Loss: 0.06496\n",
      "2023-07-17 01:23:16 | Epoch [10/15], Step [3000/3493], Loss: 0.06587\n",
      "2023-07-17 01:25:08 | Epoch [10/15], Step [3150/3493], Loss: 0.06119\n",
      "2023-07-17 01:27:01 | Epoch [10/15], Step [3300/3493], Loss: 0.061\n",
      "2023-07-17 01:28:54 | Epoch [10/15], Step [3450/3493], Loss: 0.0623\n",
      "Start validation #10\n"
     ]
    },
    {
     "data": {
      "application/vnd.jupyter.widget-view+json": {
       "model_id": "52820a11c550472482306f969b24af5f",
       "version_major": 2,
       "version_minor": 0
      },
      "text/plain": [
       "  0%|          | 0/14957 [00:00<?, ?it/s]"
      ]
     },
     "metadata": {},
     "output_type": "display_data"
    },
    {
     "name": "stdout",
     "output_type": "stream",
     "text": [
      "iou per classes\n",
      "sclera      : 0.74187\n",
      "iris        : 0.88287\n",
      "pupil       : 0.85981\n",
      "mean dice: 0.82818\n",
      "\n",
      "dice per classes\n",
      "sclera      : 0.84613\n",
      "iris        : 0.93638\n",
      "pupil       : 0.92205\n",
      "mean dice: 0.90152\n",
      "\n",
      "new best pupil iou score: 0.85981\n",
      "new best pupil dice score: 0.92205\n",
      "new best mean iou score: 0.82818\n",
      "new best mean dice score: 0.90152\n",
      "\n",
      "2023-07-17 01:41:48 | Epoch [11/15], Step [0/3493]\n",
      "2023-07-17 01:43:41 | Epoch [11/15], Step [150/3493], Loss: 0.05963\n",
      "2023-07-17 01:45:33 | Epoch [11/15], Step [300/3493], Loss: 0.0667\n",
      "2023-07-17 01:47:26 | Epoch [11/15], Step [450/3493], Loss: 0.06451\n",
      "2023-07-17 01:49:18 | Epoch [11/15], Step [600/3493], Loss: 0.05849\n",
      "2023-07-17 01:51:11 | Epoch [11/15], Step [750/3493], Loss: 0.06588\n",
      "2023-07-17 01:53:03 | Epoch [11/15], Step [900/3493], Loss: 0.06104\n",
      "2023-07-17 01:54:56 | Epoch [11/15], Step [1050/3493], Loss: 0.05938\n",
      "2023-07-17 01:56:48 | Epoch [11/15], Step [1200/3493], Loss: 0.05713\n",
      "2023-07-17 01:58:41 | Epoch [11/15], Step [1350/3493], Loss: 0.05969\n",
      "2023-07-17 02:00:33 | Epoch [11/15], Step [1500/3493], Loss: 0.05911\n",
      "2023-07-17 02:02:26 | Epoch [11/15], Step [1650/3493], Loss: 0.06862\n",
      "2023-07-17 02:04:18 | Epoch [11/15], Step [1800/3493], Loss: 0.05553\n",
      "2023-07-17 02:06:11 | Epoch [11/15], Step [1950/3493], Loss: 0.05932\n",
      "2023-07-17 02:08:03 | Epoch [11/15], Step [2100/3493], Loss: 0.05717\n",
      "2023-07-17 02:09:56 | Epoch [11/15], Step [2250/3493], Loss: 0.06154\n",
      "2023-07-17 02:11:49 | Epoch [11/15], Step [2400/3493], Loss: 0.05708\n",
      "2023-07-17 02:13:41 | Epoch [11/15], Step [2550/3493], Loss: 0.06023\n",
      "2023-07-17 02:15:34 | Epoch [11/15], Step [2700/3493], Loss: 0.05713\n",
      "2023-07-17 02:17:26 | Epoch [11/15], Step [2850/3493], Loss: 0.06368\n",
      "2023-07-17 02:19:19 | Epoch [11/15], Step [3000/3493], Loss: 0.06491\n",
      "2023-07-17 02:21:11 | Epoch [11/15], Step [3150/3493], Loss: 0.0598\n",
      "2023-07-17 02:23:04 | Epoch [11/15], Step [3300/3493], Loss: 0.05967\n",
      "2023-07-17 02:24:57 | Epoch [11/15], Step [3450/3493], Loss: 0.0611\n",
      "Start validation #11\n"
     ]
    },
    {
     "data": {
      "application/vnd.jupyter.widget-view+json": {
       "model_id": "2575bb25a476402bb9cfd41cb25e2c7a",
       "version_major": 2,
       "version_minor": 0
      },
      "text/plain": [
       "  0%|          | 0/14957 [00:00<?, ?it/s]"
      ]
     },
     "metadata": {},
     "output_type": "display_data"
    },
    {
     "name": "stdout",
     "output_type": "stream",
     "text": [
      "iou per classes\n",
      "sclera      : 0.74260\n",
      "iris        : 0.88328\n",
      "pupil       : 0.85993\n",
      "mean dice: 0.82860\n",
      "\n",
      "dice per classes\n",
      "sclera      : 0.84655\n",
      "iris        : 0.93659\n",
      "pupil       : 0.92209\n",
      "mean dice: 0.90174\n",
      "\n",
      "new best pupil iou score: 0.85993\n",
      "new best pupil dice score: 0.92209\n",
      "new best mean iou score: 0.82860\n",
      "new best mean dice score: 0.90174\n",
      "\n",
      "2023-07-17 02:37:36 | Epoch [12/15], Step [0/3493]\n",
      "2023-07-17 02:39:29 | Epoch [12/15], Step [150/3493], Loss: 0.05834\n",
      "2023-07-17 02:41:21 | Epoch [12/15], Step [300/3493], Loss: 0.06537\n",
      "2023-07-17 02:43:14 | Epoch [12/15], Step [450/3493], Loss: 0.06329\n",
      "2023-07-17 02:45:06 | Epoch [12/15], Step [600/3493], Loss: 0.0573\n",
      "2023-07-17 02:46:59 | Epoch [12/15], Step [750/3493], Loss: 0.06493\n",
      "2023-07-17 02:48:51 | Epoch [12/15], Step [900/3493], Loss: 0.06026\n",
      "2023-07-17 02:50:44 | Epoch [12/15], Step [1050/3493], Loss: 0.0582\n",
      "2023-07-17 02:52:36 | Epoch [12/15], Step [1200/3493], Loss: 0.05598\n",
      "2023-07-17 02:54:28 | Epoch [12/15], Step [1350/3493], Loss: 0.05868\n",
      "2023-07-17 02:56:21 | Epoch [12/15], Step [1500/3493], Loss: 0.05825\n",
      "2023-07-17 02:58:13 | Epoch [12/15], Step [1650/3493], Loss: 0.06733\n",
      "2023-07-17 03:00:06 | Epoch [12/15], Step [1800/3493], Loss: 0.05425\n",
      "2023-07-17 03:01:58 | Epoch [12/15], Step [1950/3493], Loss: 0.05832\n",
      "2023-07-17 03:03:50 | Epoch [12/15], Step [2100/3493], Loss: 0.05606\n",
      "2023-07-17 03:05:43 | Epoch [12/15], Step [2250/3493], Loss: 0.06053\n",
      "2023-07-17 03:07:36 | Epoch [12/15], Step [2400/3493], Loss: 0.05593\n",
      "2023-07-17 03:09:28 | Epoch [12/15], Step [2550/3493], Loss: 0.05865\n",
      "2023-07-17 03:11:21 | Epoch [12/15], Step [2700/3493], Loss: 0.05587\n",
      "2023-07-17 03:13:13 | Epoch [12/15], Step [2850/3493], Loss: 0.06256\n",
      "2023-07-17 03:15:06 | Epoch [12/15], Step [3000/3493], Loss: 0.06384\n",
      "2023-07-17 03:16:58 | Epoch [12/15], Step [3150/3493], Loss: 0.05848\n",
      "2023-07-17 03:18:51 | Epoch [12/15], Step [3300/3493], Loss: 0.05842\n",
      "2023-07-17 03:20:43 | Epoch [12/15], Step [3450/3493], Loss: 0.0601\n",
      "Start validation #12\n"
     ]
    },
    {
     "data": {
      "application/vnd.jupyter.widget-view+json": {
       "model_id": "e61513ab36ba48b8899dc69adcaa5323",
       "version_major": 2,
       "version_minor": 0
      },
      "text/plain": [
       "  0%|          | 0/14957 [00:00<?, ?it/s]"
      ]
     },
     "metadata": {},
     "output_type": "display_data"
    },
    {
     "name": "stdout",
     "output_type": "stream",
     "text": [
      "iou per classes\n",
      "sclera      : 0.74297\n",
      "iris        : 0.88337\n",
      "pupil       : 0.86015\n",
      "mean dice: 0.82883\n",
      "\n",
      "dice per classes\n",
      "sclera      : 0.84673\n",
      "iris        : 0.93662\n",
      "pupil       : 0.92220\n",
      "mean dice: 0.90185\n",
      "\n",
      "new best pupil iou score: 0.86015\n",
      "new best pupil dice score: 0.92220\n",
      "new best mean iou score: 0.82883\n",
      "new best mean dice score: 0.90185\n",
      "\n",
      "2023-07-17 03:33:19 | Epoch [13/15], Step [0/3493]\n",
      "2023-07-17 03:35:12 | Epoch [13/15], Step [150/3493], Loss: 0.05711\n",
      "2023-07-17 03:37:04 | Epoch [13/15], Step [300/3493], Loss: 0.06401\n",
      "2023-07-17 03:38:57 | Epoch [13/15], Step [450/3493], Loss: 0.06228\n",
      "2023-07-17 03:40:49 | Epoch [13/15], Step [600/3493], Loss: 0.05616\n",
      "2023-07-17 03:42:42 | Epoch [13/15], Step [750/3493], Loss: 0.06426\n",
      "2023-07-17 03:44:35 | Epoch [13/15], Step [900/3493], Loss: 0.05936\n",
      "2023-07-17 03:46:27 | Epoch [13/15], Step [1050/3493], Loss: 0.05712\n",
      "2023-07-17 03:48:19 | Epoch [13/15], Step [1200/3493], Loss: 0.05493\n",
      "2023-07-17 03:50:12 | Epoch [13/15], Step [1350/3493], Loss: 0.05781\n",
      "2023-07-17 03:52:04 | Epoch [13/15], Step [1500/3493], Loss: 0.05751\n",
      "2023-07-17 03:53:57 | Epoch [13/15], Step [1650/3493], Loss: 0.06611\n",
      "2023-07-17 03:55:49 | Epoch [13/15], Step [1800/3493], Loss: 0.05299\n",
      "2023-07-17 03:57:42 | Epoch [13/15], Step [1950/3493], Loss: 0.05745\n",
      "2023-07-17 03:59:34 | Epoch [13/15], Step [2100/3493], Loss: 0.05508\n",
      "2023-07-17 04:01:27 | Epoch [13/15], Step [2250/3493], Loss: 0.05967\n",
      "2023-07-17 04:03:19 | Epoch [13/15], Step [2400/3493], Loss: 0.05496\n",
      "2023-07-17 04:05:12 | Epoch [13/15], Step [2550/3493], Loss: 0.05738\n",
      "2023-07-17 04:07:04 | Epoch [13/15], Step [2700/3493], Loss: 0.05449\n",
      "2023-07-17 04:08:56 | Epoch [13/15], Step [2850/3493], Loss: 0.0614\n",
      "2023-07-17 04:10:49 | Epoch [13/15], Step [3000/3493], Loss: 0.06291\n",
      "2023-07-17 04:12:42 | Epoch [13/15], Step [3150/3493], Loss: 0.05726\n",
      "2023-07-17 04:14:34 | Epoch [13/15], Step [3300/3493], Loss: 0.05744\n",
      "2023-07-17 04:16:27 | Epoch [13/15], Step [3450/3493], Loss: 0.05924\n",
      "Start validation #13\n"
     ]
    },
    {
     "data": {
      "application/vnd.jupyter.widget-view+json": {
       "model_id": "8039ed6636d24f5cbde1a4d7e63cbc66",
       "version_major": 2,
       "version_minor": 0
      },
      "text/plain": [
       "  0%|          | 0/14957 [00:00<?, ?it/s]"
      ]
     },
     "metadata": {},
     "output_type": "display_data"
    },
    {
     "name": "stderr",
     "output_type": "stream",
     "text": [
      "IOPub message rate exceeded.\n",
      "The Jupyter server will temporarily stop sending output\n",
      "to the client in order to avoid crashing it.\n",
      "To change this limit, set the config variable\n",
      "`--ServerApp.iopub_msg_rate_limit`.\n",
      "\n",
      "Current values:\n",
      "ServerApp.iopub_msg_rate_limit=1000.0 (msgs/sec)\n",
      "ServerApp.rate_limit_window=3.0 (secs)\n",
      "\n"
     ]
    },
    {
     "name": "stdout",
     "output_type": "stream",
     "text": [
      "2023-07-17 04:49:05 | Epoch [14/15], Step [1650/3493], Loss: 0.06504\n",
      "2023-07-17 04:50:58 | Epoch [14/15], Step [1800/3493], Loss: 0.05195\n",
      "2023-07-17 04:52:51 | Epoch [14/15], Step [1950/3493], Loss: 0.05662\n",
      "2023-07-17 04:54:43 | Epoch [14/15], Step [2100/3493], Loss: 0.05402\n",
      "2023-07-17 04:56:36 | Epoch [14/15], Step [2250/3493], Loss: 0.05898\n",
      "2023-07-17 04:58:28 | Epoch [14/15], Step [2400/3493], Loss: 0.05403\n",
      "2023-07-17 05:00:21 | Epoch [14/15], Step [2550/3493], Loss: 0.0562\n",
      "2023-07-17 05:02:13 | Epoch [14/15], Step [2700/3493], Loss: 0.05339\n",
      "2023-07-17 05:04:06 | Epoch [14/15], Step [2850/3493], Loss: 0.06035\n",
      "2023-07-17 05:05:59 | Epoch [14/15], Step [3000/3493], Loss: 0.06193\n",
      "2023-07-17 05:07:52 | Epoch [14/15], Step [3150/3493], Loss: 0.05611\n",
      "2023-07-17 05:09:44 | Epoch [14/15], Step [3300/3493], Loss: 0.05644\n",
      "2023-07-17 05:11:37 | Epoch [14/15], Step [3450/3493], Loss: 0.05854\n",
      "Start validation #14\n"
     ]
    },
    {
     "data": {
      "application/vnd.jupyter.widget-view+json": {
       "model_id": "6a12b466117b4ac0926bf9f42f5c1429",
       "version_major": 2,
       "version_minor": 0
      },
      "text/plain": [
       "  0%|          | 0/14957 [00:00<?, ?it/s]"
      ]
     },
     "metadata": {},
     "output_type": "display_data"
    },
    {
     "name": "stdout",
     "output_type": "stream",
     "text": [
      "iou per classes\n",
      "sclera      : 0.74348\n",
      "iris        : 0.88334\n",
      "pupil       : 0.86028\n",
      "mean dice: 0.82904\n",
      "\n",
      "dice per classes\n",
      "sclera      : 0.84696\n",
      "iris        : 0.93656\n",
      "pupil       : 0.92223\n",
      "mean dice: 0.90192\n",
      "\n",
      "new best pupil iou score: 0.86028\n",
      "new best pupil dice score: 0.92223\n",
      "new best mean iou score: 0.82904\n",
      "best dice score was at 13\n",
      "\n",
      "2023-07-17 05:23:01 | Epoch [15/15], Step [0/3493]\n",
      "2023-07-17 05:24:54 | Epoch [15/15], Step [150/3493], Loss: 0.05515\n",
      "2023-07-17 05:26:46 | Epoch [15/15], Step [300/3493], Loss: 0.06197\n",
      "2023-07-17 05:28:39 | Epoch [15/15], Step [450/3493], Loss: 0.06059\n",
      "2023-07-17 05:30:31 | Epoch [15/15], Step [600/3493], Loss: 0.05435\n",
      "2023-07-17 05:32:24 | Epoch [15/15], Step [750/3493], Loss: 0.06281\n",
      "2023-07-17 05:34:16 | Epoch [15/15], Step [900/3493], Loss: 0.05794\n",
      "2023-07-17 05:36:09 | Epoch [15/15], Step [1050/3493], Loss: 0.05557\n",
      "2023-07-17 05:38:01 | Epoch [15/15], Step [1200/3493], Loss: 0.05327\n",
      "2023-07-17 05:39:54 | Epoch [15/15], Step [1350/3493], Loss: 0.05585\n",
      "2023-07-17 05:41:46 | Epoch [15/15], Step [1500/3493], Loss: 0.0558\n",
      "2023-07-17 05:43:39 | Epoch [15/15], Step [1650/3493], Loss: 0.06373\n",
      "2023-07-17 05:45:32 | Epoch [15/15], Step [1800/3493], Loss: 0.05119\n",
      "2023-07-17 05:47:24 | Epoch [15/15], Step [1950/3493], Loss: 0.05568\n",
      "2023-07-17 05:49:16 | Epoch [15/15], Step [2100/3493], Loss: 0.05316\n",
      "2023-07-17 05:51:09 | Epoch [15/15], Step [2250/3493], Loss: 0.05838\n",
      "2023-07-17 05:53:02 | Epoch [15/15], Step [2400/3493], Loss: 0.05323\n",
      "2023-07-17 05:54:54 | Epoch [15/15], Step [2550/3493], Loss: 0.05526\n",
      "2023-07-17 05:56:47 | Epoch [15/15], Step [2700/3493], Loss: 0.0524\n",
      "2023-07-17 05:58:39 | Epoch [15/15], Step [2850/3493], Loss: 0.05953\n",
      "2023-07-17 06:00:32 | Epoch [15/15], Step [3000/3493], Loss: 0.061\n",
      "2023-07-17 06:02:25 | Epoch [15/15], Step [3150/3493], Loss: 0.05524\n",
      "2023-07-17 06:04:17 | Epoch [15/15], Step [3300/3493], Loss: 0.05553\n",
      "2023-07-17 06:06:10 | Epoch [15/15], Step [3450/3493], Loss: 0.05795\n",
      "Start validation #15\n"
     ]
    },
    {
     "data": {
      "application/vnd.jupyter.widget-view+json": {
       "model_id": "b9d6b161f7a147e8b7c60bfe255b86ab",
       "version_major": 2,
       "version_minor": 0
      },
      "text/plain": [
       "  0%|          | 0/14957 [00:00<?, ?it/s]"
      ]
     },
     "metadata": {},
     "output_type": "display_data"
    }
   ],
   "source": [
    "from train import train\n",
    "\n",
    "set_seed(RANDOM_SEED)\n",
    "folder_name = train(model, train_loader, valid_loader, criterion, optimizer, epoch, VAL_EVERY)"
   ]
  },
  {
   "cell_type": "code",
   "execution_count": null,
   "id": "030f25f4-a1fb-4abd-b340-ab943f8ad89a",
   "metadata": {},
   "outputs": [],
   "source": [
    "import os\n",
    "import cv2\n",
    "import time\n",
    "import torch\n",
    "import numpy as np\n",
    "from tqdm.auto import tqdm"
   ]
  },
  {
   "cell_type": "code",
   "execution_count": null,
   "id": "3ee5494f-654d-4dec-bac7-56a6285f6c47",
   "metadata": {},
   "outputs": [],
   "source": [
    "folder_name = '/opt/ml/input/code/trained_model/last_model'\n",
    "model = torch.load(folder_name + '/best_pupil_dice.pt')\n",
    "model.cuda()\n",
    "model.eval()\n",
    "\n",
    "def output_coloring(model, image_path):\n",
    "    start = time.time()\n",
    "\n",
    "    image = cv2.imread(image_path)\n",
    "    image = np.array(image)\n",
    "    image = np.pad(image, ((0,0),(0,16),(0,0)), 'constant', constant_values=0)\n",
    "\n",
    "    # model에 넣기 위해 640 x 416으로 변환하고 batch 1로 만드는 과정\n",
    "    img = image / 255.\n",
    "    img = img.transpose(2, 0, 1)\n",
    "    img = np.expand_dims(img, axis=0)\n",
    "    img = torch.from_numpy(img).float()\n",
    "    img = img.cuda()\n",
    "\n",
    "    print(\"640 x 400 image padding까지 걸리는 시간: \", time.time() - start)\n",
    "\n",
    "    start = time.time()\n",
    "    output = model(img)\n",
    "    print(\"model output까지 걸리는 시간: \", time.time() - start)\n",
    "\n",
    "    # output에 threshold를 거쳐 최종적으로 예측한 클래스를 640 x 400 x 3으로 표기\n",
    "    n = torch.sigmoid(output) # output 변환\n",
    "    n = (n > 0.5).detach().cpu().numpy()\n",
    "    n = np.squeeze(n, axis = 0)\n",
    "    n = n.transpose(1, 2, 0)\n",
    "    n = n.astype(np.uint8)\n",
    "\n",
    "    # 원본 이미지에 예측 결과를 이용하여 색칠\n",
    "    for i in range(640):\n",
    "        for j in range(416):\n",
    "            if n[i][j][0] == 1: # sclera, 공막, 적색\n",
    "                image[i][j][0], image[i][j][1], image[i][j][2] = 255, 0, 0\n",
    "            if n[i][j][1] == 1: # iris, 홍채, 녹색\n",
    "                image[i][j][0], image[i][j][1], image[i][j][2] = 0, 255, 0\n",
    "            if n[i][j][2] == 1: # pupil, 동공, 청색\n",
    "                image[i][j][0], image[i][j][1], image[i][j][2] = 0, 0, 255\n",
    "    image = Image.fromarray(image)\n",
    "    # pillow의 image 객체 리턴\n",
    "    return image"
   ]
  },
  {
   "cell_type": "code",
   "execution_count": null,
   "id": "904fce1b-9c36-4ccc-9314-78c682c694e3",
   "metadata": {},
   "outputs": [],
   "source": [
    "def objdetect_inference(model, image_path):\n",
    "    start = time.time()\n",
    "\n",
    "    image = cv2.imread(image_path)\n",
    "    image = cv2.cvtColor(image, cv2.COLOR_BGR2GRAY)\n",
    "    image = cv2.cvtColor(image,cv2.COLOR_GRAY2RGB)\n",
    "    h, w, c = image.shape\n",
    "\n",
    "    # 32에 가장 가까운 \n",
    "    height = (h // 32) * 32\n",
    "    width = (w // 32) * 32\n",
    "\n",
    "    height = max(32, height)  # 32 pixel보다 작은 경우 32픽셀로 늘려주기\n",
    "    width = max(32, width)\n",
    "    \n",
    "    image = cv2.resize(image, (width, height), interpolation=cv2.INTER_LANCZOS4)\n",
    "    image = np.array(image)\n",
    "\n",
    "    # model에 넣기 위해 640 x 416으로 변환하고 batch 1로 만드는 과정\n",
    "    img = image / 255.\n",
    "    img = img.transpose(2, 0, 1)\n",
    "    img = np.expand_dims(img, axis=0)\n",
    "    img = torch.from_numpy(img).float()\n",
    "    img = img.cuda()\n",
    "\n",
    "    #print(f\"{h} x {w} image resize까지 걸리는 시간: \", time.time() - start)\n",
    "\n",
    "    start = time.time()\n",
    "    output = model(img)\n",
    "    #print(\"model output까지 걸리는 시간: \", time.time() - start)\n",
    "\n",
    "    # output에 threshold를 거쳐 최종적으로 예측한 클래스를 640 x 400 x 3으로 표기\n",
    "    n = torch.sigmoid(output) # output 변환\n",
    "    n = (n > 0.5).detach().cpu().numpy()\n",
    "    n = np.squeeze(n, axis = 0)\n",
    "    n = n.transpose(1, 2, 0)\n",
    "    n = n.astype(np.uint8)\n",
    "\n",
    "    # 원본 이미지에 예측 결과를 이용하여 색칠\n",
    "    for i in range(height):\n",
    "        for j in range(width):\n",
    "            if n[i][j][0] == 1: # sclera, 공막, 적색\n",
    "                image[i][j][0], image[i][j][1], image[i][j][2] = 255, 0, 0\n",
    "            if n[i][j][1] == 1: # iris, 홍채, 녹색\n",
    "                image[i][j][0], image[i][j][1], image[i][j][2] = 0, 255, 0\n",
    "            if n[i][j][2] == 1: # pupil, 동공, 청색\n",
    "                image[i][j][0], image[i][j][1], image[i][j][2] = 0, 0, 255\n",
    "    image = Image.fromarray(image)\n",
    "    # pillow의 image 객체 리턴\n",
    "    return image"
   ]
  },
  {
   "cell_type": "code",
   "execution_count": null,
   "id": "fdbfd366-254a-4238-afc0-3bf32edfb93e",
   "metadata": {},
   "outputs": [],
   "source": [
    "path = '/opt/ml/input/code/objdet/train7'\n",
    "output_path = '/opt/ml/input/code/inference_valid/'\n",
    "image_num = 10\n",
    "\n",
    "if not os.path.isdir(output_path):\n",
    "    os.mkdir(output_path)\n",
    "\n",
    "#for image_name in tqdm(os.listdir(path)[:image_num]):\n",
    "for image_name in tqdm(os.listdir(path)):\n",
    "    if image_name == '.ipynb_checkpoints':\n",
    "        continue\n",
    "    image_path = path + '/' + image_name\n",
    "    image = objdetect_inference(model, image_path)\n",
    "    \n",
    "    Image.fromarray(cv2.imread(image_path)).save(output_path + image_name[:-4] + '_원본.png', 'png')\n",
    "    image.save(output_path + image_name[:-4] + '_coloring.png', 'png')"
   ]
  },
  {
   "cell_type": "code",
   "execution_count": null,
   "id": "58d1b5be-25c7-4315-bb4d-376f9aa9e825",
   "metadata": {},
   "outputs": [],
   "source": []
  }
 ],
 "metadata": {
  "kernelspec": {
   "display_name": "Python 3 (ipykernel)",
   "language": "python",
   "name": "python3"
  },
  "language_info": {
   "codemirror_mode": {
    "name": "ipython",
    "version": 3
   },
   "file_extension": ".py",
   "mimetype": "text/x-python",
   "name": "python",
   "nbconvert_exporter": "python",
   "pygments_lexer": "ipython3",
   "version": "3.8.5"
  }
 },
 "nbformat": 4,
 "nbformat_minor": 5
}
