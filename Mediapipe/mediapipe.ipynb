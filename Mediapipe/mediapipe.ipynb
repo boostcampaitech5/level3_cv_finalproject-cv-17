{
 "cells": [
  {
   "cell_type": "code",
   "execution_count": null,
   "metadata": {},
   "outputs": [],
   "source": [
    "import cv2\n",
    "import time\n",
    "import numpy as np\n",
    "import mediapipe as mp"
   ]
  },
  {
   "cell_type": "code",
   "execution_count": null,
   "metadata": {},
   "outputs": [],
   "source": [
    "# 홍채 좌표 리스트\n",
    "LEFT_IRIS = [474,475, 476, 477]\n",
    "RIGHT_IRIS = [469, 470, 471, 472]\n",
    "\n",
    "# 눈꺼풀 좌표 리스트\n",
    "LEFT_EYE =[ 362, 382, 381, 380, 374, 373, 390, 249, 263, 466, 388, 387, 386, 385,384, 398 ]\n",
    "RIGHT_EYE=[ 33, 7, 163, 144, 145, 153, 154, 155, 133, 173, 157, 158, 159, 160, 161 , 246 ]"
   ]
  },
  {
   "cell_type": "code",
   "execution_count": null,
   "metadata": {},
   "outputs": [],
   "source": [
    "mp_face_mesh = mp.solutions.face_mesh\n",
    "frame_path = '/opt/ml/data_input/images/test_01.jpg'\n",
    "\n",
    "frame = cv2.imread(frame_path)\n",
    "\n",
    "start_time = time.time()\n",
    "\n",
    "with mp_face_mesh.FaceMesh(\n",
    "    max_num_faces=1,\n",
    "    refine_landmarks=True,\n",
    "    min_detection_confidence=0.6,\n",
    "    min_tracking_confidence=0.6\n",
    ") as face_mesh:\n",
    "    frame = cv2.flip(frame, 1)\n",
    "    rgb_frame = cv2.cvtColor(frame, cv2.COLOR_BGR2RGB)\n",
    "    results = face_mesh.process(rgb_frame)\n",
    "    #getting width and height or frame\n",
    "    img_h, img_w = frame.shape[:2]\n",
    "\n",
    "end_time = time.time()\n",
    "\n",
    "execution_time = end_time - start_time\n",
    "# 결과 출력\n",
    "print(f\"코드 실행 시간: {execution_time:.6f} 초\")\n",
    "    "
   ]
  },
  {
   "cell_type": "code",
   "execution_count": null,
   "metadata": {},
   "outputs": [],
   "source": [
    "mesh_points=np.array([np.multiply([p.x, p.y], [img_w, img_h]).astype(int) for p in results.multi_face_landmarks[0].landmark])"
   ]
  },
  {
   "cell_type": "code",
   "execution_count": null,
   "metadata": {},
   "outputs": [],
   "source": [
    "cv2.polylines(frame, [mesh_points[LEFT_IRIS]], True, (255,0,0), 1, cv2.LINE_AA)\n",
    "cv2.polylines(frame, [mesh_points[RIGHT_IRIS]], True, (255,0,0), 1, cv2.LINE_AA)\n",
    "\n",
    "cv2.polylines(frame, [mesh_points[LEFT_EYE]], True, (0,255,0), 1, cv2.LINE_AA)\n",
    "cv2.polylines(frame, [mesh_points[RIGHT_EYE]], True, (0,255,0), 1, cv2.LINE_AA)\n",
    "\n",
    "# cv2.polylines(frame, [mesh_points], True, (0,255,0), 1, cv2.LINE_AA)\n"
   ]
  },
  {
   "cell_type": "code",
   "execution_count": null,
   "metadata": {},
   "outputs": [],
   "source": [
    "import matplotlib.pyplot as plt\n",
    "\n",
    "# OpenCV에서 읽어온 BGR 이미지를 RGB로 변환\n",
    "image_rgb = cv2.cvtColor(frame, cv2.COLOR_BGR2RGB)\n",
    "\n",
    "# 이미지 시각화\n",
    "plt.imshow(image_rgb)\n",
    "plt.axis('off')\n",
    "plt.title('Eye Visualization')\n",
    "plt.show()"
   ]
  },
  {
   "cell_type": "code",
   "execution_count": null,
   "metadata": {},
   "outputs": [],
   "source": [
    "import sys\n",
    "sys.path.append('gesture')\n",
    "\n",
    "from getGesture import get_pupil_from_iris\n",
    "\n",
    "left_pupil = get_pupil_from_iris(mesh_points[LEFT_IRIS])\n",
    "right_pupil = get_pupil_from_iris(mesh_points[RIGHT_IRIS])\n",
    "\n",
    "cv2.drawMarker(frame, left_pupil, (255,255,255), line_type = cv2.LINE_AA)\n",
    "cv2.drawMarker(frame, right_pupil, (255,255,255), line_type = cv2.LINE_AA)\n",
    "\n",
    "image_rgb_with_pupils = cv2.cvtColor(frame, cv2.COLOR_BGR2RGB)\n",
    "\n",
    "plt.imshow(image_rgb_with_pupils)\n",
    "plt.axis('off')\n",
    "plt.title('Eye Visualization')\n",
    "plt.show()"
   ]
  },
  {
   "cell_type": "code",
   "execution_count": null,
   "metadata": {},
   "outputs": [],
   "source": [
    "left_iris = []\n",
    "right_iris = []\n",
    "for i in range(4):\n",
    "    left_iris.append((mesh_points[LEFT_EYE][i]))\n",
    "    right_iris.append((mesh_points[RIGHT_EYE][i]))\n",
    "# print(left_iris)\n",
    "# print(right_iris)\n",
    "for index, color in enumerate([(255,0,0),(0,255,0),(0,0,255),(255,255,255)]):\n",
    "    cv2.drawMarker(frame, left_iris[index], color, line_type = cv2.LINE_AA)\n",
    "    cv2.drawMarker(frame, right_iris[index], color, line_type = cv2.LINE_AA)\n",
    "\n",
    "# OpenCV에서 읽어온 BGR 이미지를 RGB로 변환\n",
    "image_rgb_with_iris_marker = cv2.cvtColor(frame, cv2.COLOR_BGR2RGB)\n",
    "\n",
    "# 이미지 시각화\n",
    "plt.imshow(image_rgb_with_iris_marker)\n",
    "plt.axis('off')\n",
    "plt.title('Eye Visualization')\n",
    "plt.show()"
   ]
  },
  {
   "cell_type": "code",
   "execution_count": null,
   "metadata": {},
   "outputs": [],
   "source": [
    "left_eye = []\n",
    "right_eye = []\n",
    "for i in range(16):\n",
    "    left_eye.append((mesh_points[LEFT_EYE][i]))\n",
    "    right_eye.append((mesh_points[RIGHT_EYE][i]))\n",
    "print(left_eye)\n",
    "print(right_eye)\n",
    "colors = [(255,0,0),(0,255,0),(0,0,255),(255,255,255)]\n",
    "for i in range(16):\n",
    "    # if i == 0 or i == 15:\n",
    "    #     marker = cv2.MARKER_DIAMOND\n",
    "    #     # color = (0, 225, 225)\n",
    "    # else:\n",
    "    #     marker = cv2.LINE_AA\n",
    "    color = colors[i//4]\n",
    "    marker = cv2.LINE_AA\n",
    "    print(i, left_eye[i], color, marker)\n",
    "    cv2.drawMarker(frame, left_eye[i], color, markerType = marker, line_type = cv2.LINE_AA)\n",
    "    cv2.drawMarker(frame, right_eye[i], color, markerType = marker, line_type = cv2.LINE_AA)\n",
    "\n",
    "# OpenCV에서 읽어온 BGR 이미지를 RGB로 변환\n",
    "image_rgb_with_eye_marker = cv2.cvtColor(frame, cv2.COLOR_BGR2RGB)\n",
    "\n",
    "# 이미지 시각화\n",
    "plt.imshow(image_rgb_with_iris_markers)\n",
    "plt.axis('off')\n",
    "plt.title('Eye Visualization')\n",
    "plt.show()"
   ]
  },
  {
   "cell_type": "code",
   "execution_count": null,
   "metadata": {},
   "outputs": [],
   "source": [
    "from getGesture import get_gesture\n",
    "\n",
    "gesture = get_gesture(mesh_points)"
   ]
  }
 ],
 "metadata": {
  "kernelspec": {
   "display_name": "base",
   "language": "python",
   "name": "python3"
  },
  "language_info": {
   "codemirror_mode": {
    "name": "ipython",
    "version": 3
   },
   "file_extension": ".py",
   "mimetype": "text/x-python",
   "name": "python",
   "nbconvert_exporter": "python",
   "pygments_lexer": "ipython3",
   "version": "3.10.10"
  },
  "orig_nbformat": 4
 },
 "nbformat": 4,
 "nbformat_minor": 2
}
